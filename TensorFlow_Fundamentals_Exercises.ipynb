{
  "nbformat": 4,
  "nbformat_minor": 0,
  "metadata": {
    "colab": {
      "name": " TensorFlow Fundamentals Exercises.ipynb",
      "provenance": [],
      "authorship_tag": "ABX9TyNrl2mMRmyRcHiNk7lCuAJ9",
      "include_colab_link": true
    },
    "kernelspec": {
      "name": "python3",
      "display_name": "Python 3"
    },
    "language_info": {
      "name": "python"
    }
  },
  "cells": [
    {
      "cell_type": "markdown",
      "metadata": {
        "id": "view-in-github",
        "colab_type": "text"
      },
      "source": [
        "<a href=\"https://colab.research.google.com/github/PriyankaSharma0925/MachineLearning/blob/main/TensorFlow_Fundamentals_Exercises.ipynb\" target=\"_parent\"><img src=\"https://colab.research.google.com/assets/colab-badge.svg\" alt=\"Open In Colab\"/></a>"
      ]
    },
    {
      "cell_type": "code",
      "execution_count": 3,
      "metadata": {
        "id": "0-A9yArnZ4Td"
      },
      "outputs": [],
      "source": [
        "import tensorflow as tf"
      ]
    },
    {
      "cell_type": "code",
      "source": [
        "scaler=tf.constant(5)"
      ],
      "metadata": {
        "id": "CxMz8tjweOa4"
      },
      "execution_count": 4,
      "outputs": []
    },
    {
      "cell_type": "code",
      "source": [
        "scaler"
      ],
      "metadata": {
        "colab": {
          "base_uri": "https://localhost:8080/"
        },
        "id": "FaA0HUJ_eeJO",
        "outputId": "e69e721d-f4b8-44e8-a67b-d69cf35ef1bf"
      },
      "execution_count": 5,
      "outputs": [
        {
          "output_type": "execute_result",
          "data": {
            "text/plain": [
              "<tf.Tensor: shape=(), dtype=int32, numpy=5>"
            ]
          },
          "metadata": {},
          "execution_count": 5
        }
      ]
    },
    {
      "cell_type": "code",
      "source": [
        "vector=tf.constant([4,0,5,6,7,8,8,3])"
      ],
      "metadata": {
        "id": "r5qZiUgbefxm"
      },
      "execution_count": 6,
      "outputs": []
    },
    {
      "cell_type": "code",
      "source": [
        "vector"
      ],
      "metadata": {
        "colab": {
          "base_uri": "https://localhost:8080/"
        },
        "id": "U6UHZzPSekPW",
        "outputId": "ea5f2fcf-5e9a-46f5-bb38-833ab8fac074"
      },
      "execution_count": 7,
      "outputs": [
        {
          "output_type": "execute_result",
          "data": {
            "text/plain": [
              "<tf.Tensor: shape=(8,), dtype=int32, numpy=array([4, 0, 5, 6, 7, 8, 8, 3], dtype=int32)>"
            ]
          },
          "metadata": {},
          "execution_count": 7
        }
      ]
    },
    {
      "cell_type": "code",
      "source": [
        "matrix=tf.constant([[2]])"
      ],
      "metadata": {
        "id": "WHgp0a02em6e"
      },
      "execution_count": 8,
      "outputs": []
    },
    {
      "cell_type": "code",
      "source": [
        "matrix"
      ],
      "metadata": {
        "colab": {
          "base_uri": "https://localhost:8080/"
        },
        "id": "caKLX3BKe-Y-",
        "outputId": "2340827c-4aed-4637-b81d-86ada8f53a9a"
      },
      "execution_count": 9,
      "outputs": [
        {
          "output_type": "execute_result",
          "data": {
            "text/plain": [
              "<tf.Tensor: shape=(1, 1), dtype=int32, numpy=array([[2]], dtype=int32)>"
            ]
          },
          "metadata": {},
          "execution_count": 9
        }
      ]
    },
    {
      "cell_type": "code",
      "source": [
        "tensor=tf.constant([[[4,5],\n",
        "                     [6,7]],\n",
        "                    [[5,6],\n",
        "                     [8,9]]])"
      ],
      "metadata": {
        "id": "IciuO9Hle_ZV"
      },
      "execution_count": 10,
      "outputs": []
    },
    {
      "cell_type": "code",
      "source": [
        "tensor"
      ],
      "metadata": {
        "colab": {
          "base_uri": "https://localhost:8080/"
        },
        "id": "4oC5pyEPfGvd",
        "outputId": "e60b4714-fe93-4620-edfd-82564edea577"
      },
      "execution_count": 11,
      "outputs": [
        {
          "output_type": "execute_result",
          "data": {
            "text/plain": [
              "<tf.Tensor: shape=(2, 2, 2), dtype=int32, numpy=\n",
              "array([[[4, 5],\n",
              "        [6, 7]],\n",
              "\n",
              "       [[5, 6],\n",
              "        [8, 9]]], dtype=int32)>"
            ]
          },
          "metadata": {},
          "execution_count": 11
        }
      ]
    },
    {
      "cell_type": "code",
      "source": [
        "scaler.ndim,vector.ndim,matrix.ndim,tensor.ndim"
      ],
      "metadata": {
        "colab": {
          "base_uri": "https://localhost:8080/"
        },
        "id": "wJRey6plfH1d",
        "outputId": "5315668e-d14c-4f7c-f65f-afa119709218"
      },
      "execution_count": 12,
      "outputs": [
        {
          "output_type": "execute_result",
          "data": {
            "text/plain": [
              "(0, 1, 2, 3)"
            ]
          },
          "metadata": {},
          "execution_count": 12
        }
      ]
    },
    {
      "cell_type": "code",
      "source": [
        "tf.rank(scaler),tf.rank(scaler),tf.size(scaler)"
      ],
      "metadata": {
        "colab": {
          "base_uri": "https://localhost:8080/"
        },
        "id": "6x0iRI7efP8G",
        "outputId": "445c9a68-40bc-458c-9d8b-895190a7d24a"
      },
      "execution_count": 13,
      "outputs": [
        {
          "output_type": "execute_result",
          "data": {
            "text/plain": [
              "(<tf.Tensor: shape=(), dtype=int32, numpy=0>,\n",
              " <tf.Tensor: shape=(), dtype=int32, numpy=0>,\n",
              " <tf.Tensor: shape=(), dtype=int32, numpy=1>)"
            ]
          },
          "metadata": {},
          "execution_count": 13
        }
      ]
    },
    {
      "cell_type": "code",
      "source": [
        "tf.rank(vector),tf.rank(vector),tf.size(vector)"
      ],
      "metadata": {
        "colab": {
          "base_uri": "https://localhost:8080/"
        },
        "id": "f7ju_9kpgXze",
        "outputId": "580e55e8-adfc-450e-d602-1bfcc947ffce"
      },
      "execution_count": 14,
      "outputs": [
        {
          "output_type": "execute_result",
          "data": {
            "text/plain": [
              "(<tf.Tensor: shape=(), dtype=int32, numpy=1>,\n",
              " <tf.Tensor: shape=(), dtype=int32, numpy=1>,\n",
              " <tf.Tensor: shape=(), dtype=int32, numpy=8>)"
            ]
          },
          "metadata": {},
          "execution_count": 14
        }
      ]
    },
    {
      "cell_type": "code",
      "source": [
        "tf.shape(matrix),tf.rank(matrix),tf.size(matrix)"
      ],
      "metadata": {
        "colab": {
          "base_uri": "https://localhost:8080/"
        },
        "id": "VveWMjGlgraO",
        "outputId": "4212a01d-c3a9-44e0-ab33-72df27d9178c"
      },
      "execution_count": 15,
      "outputs": [
        {
          "output_type": "execute_result",
          "data": {
            "text/plain": [
              "(<tf.Tensor: shape=(2,), dtype=int32, numpy=array([1, 1], dtype=int32)>,\n",
              " <tf.Tensor: shape=(), dtype=int32, numpy=2>,\n",
              " <tf.Tensor: shape=(), dtype=int32, numpy=1>)"
            ]
          },
          "metadata": {},
          "execution_count": 15
        }
      ]
    },
    {
      "cell_type": "code",
      "source": [
        "tf.shape(tensor),tf.rank(tensor),tf.size(tensor)"
      ],
      "metadata": {
        "colab": {
          "base_uri": "https://localhost:8080/"
        },
        "id": "8DGbBxjBg9Ys",
        "outputId": "f8427126-6231-4105-b18e-8dc137f070a1"
      },
      "execution_count": 16,
      "outputs": [
        {
          "output_type": "execute_result",
          "data": {
            "text/plain": [
              "(<tf.Tensor: shape=(3,), dtype=int32, numpy=array([2, 2, 2], dtype=int32)>,\n",
              " <tf.Tensor: shape=(), dtype=int32, numpy=3>,\n",
              " <tf.Tensor: shape=(), dtype=int32, numpy=8>)"
            ]
          },
          "metadata": {},
          "execution_count": 16
        }
      ]
    },
    {
      "cell_type": "code",
      "source": [
        "tf.random.set_seed(42)\n",
        "rand_tensor1=tf.random.uniform(minval=0,maxval=1,shape=(5,300),seed=9)\n",
        "rand_tensor1"
      ],
      "metadata": {
        "colab": {
          "base_uri": "https://localhost:8080/"
        },
        "id": "ku-UCMDyhHaV",
        "outputId": "b5a36cf2-fce4-40e6-a50d-1fde59460a8f"
      },
      "execution_count": 17,
      "outputs": [
        {
          "output_type": "execute_result",
          "data": {
            "text/plain": [
              "<tf.Tensor: shape=(5, 300), dtype=float32, numpy=\n",
              "array([[0.79607403, 0.49815786, 0.67241085, ..., 0.09477329, 0.7157892 ,\n",
              "        0.17522621],\n",
              "       [0.35869956, 0.6887872 , 0.9754571 , ..., 0.9076134 , 0.01819432,\n",
              "        0.12533224],\n",
              "       [0.9073261 , 0.92021954, 0.82361233, ..., 0.17835736, 0.3678484 ,\n",
              "        0.14013803],\n",
              "       [0.9498466 , 0.36302173, 0.0013175 , ..., 0.6793394 , 0.81695974,\n",
              "        0.976863  ],\n",
              "       [0.97967577, 0.5972265 , 0.90829945, ..., 0.65950596, 0.79918766,\n",
              "        0.8568859 ]], dtype=float32)>"
            ]
          },
          "metadata": {},
          "execution_count": 17
        }
      ]
    },
    {
      "cell_type": "code",
      "source": [
        "rand_tensor1.numpy()"
      ],
      "metadata": {
        "colab": {
          "base_uri": "https://localhost:8080/"
        },
        "id": "cjE3VAaDjfq1",
        "outputId": "1aee78cd-fcc6-493e-8478-ef09697e97c0"
      },
      "execution_count": 18,
      "outputs": [
        {
          "output_type": "execute_result",
          "data": {
            "text/plain": [
              "array([[0.79607403, 0.49815786, 0.67241085, ..., 0.09477329, 0.7157892 ,\n",
              "        0.17522621],\n",
              "       [0.35869956, 0.6887872 , 0.9754571 , ..., 0.9076134 , 0.01819432,\n",
              "        0.12533224],\n",
              "       [0.9073261 , 0.92021954, 0.82361233, ..., 0.17835736, 0.3678484 ,\n",
              "        0.14013803],\n",
              "       [0.9498466 , 0.36302173, 0.0013175 , ..., 0.6793394 , 0.81695974,\n",
              "        0.976863  ],\n",
              "       [0.97967577, 0.5972265 , 0.90829945, ..., 0.65950596, 0.79918766,\n",
              "        0.8568859 ]], dtype=float32)"
            ]
          },
          "metadata": {},
          "execution_count": 18
        }
      ]
    },
    {
      "cell_type": "code",
      "source": [
        "rand_tensor_2=tf.random.uniform(minval=0,maxval=1,shape=(5,300),seed=9)\n",
        "rand_tensor_2"
      ],
      "metadata": {
        "colab": {
          "base_uri": "https://localhost:8080/"
        },
        "id": "MDKB4niHjhg1",
        "outputId": "1f4dfd84-fef0-4cdc-f134-61a1036aaa21"
      },
      "execution_count": 19,
      "outputs": [
        {
          "output_type": "execute_result",
          "data": {
            "text/plain": [
              "<tf.Tensor: shape=(5, 300), dtype=float32, numpy=\n",
              "array([[0.75724185, 0.78385365, 0.17958641, ..., 0.5497    , 0.07608819,\n",
              "        0.22292292],\n",
              "       [0.38637543, 0.95431244, 0.32342255, ..., 0.43897283, 0.15580821,\n",
              "        0.427588  ],\n",
              "       [0.9104581 , 0.5605484 , 0.972301  , ..., 0.36840487, 0.7113105 ,\n",
              "        0.6113094 ],\n",
              "       [0.9526664 , 0.18419755, 0.5925083 , ..., 0.04861462, 0.46683216,\n",
              "        0.6769749 ],\n",
              "       [0.266294  , 0.91047835, 0.6088846 , ..., 0.383834  , 0.02093661,\n",
              "        0.20421195]], dtype=float32)>"
            ]
          },
          "metadata": {},
          "execution_count": 19
        }
      ]
    },
    {
      "cell_type": "code",
      "source": [
        "tf.matmul(rand_tensor1,tf.transpose(rand_tensor_2))"
      ],
      "metadata": {
        "colab": {
          "base_uri": "https://localhost:8080/"
        },
        "id": "13VpgfBbktQW",
        "outputId": "c3f8ffbf-abc0-4fb3-c6eb-7204441380eb"
      },
      "execution_count": 20,
      "outputs": [
        {
          "output_type": "execute_result",
          "data": {
            "text/plain": [
              "<tf.Tensor: shape=(5, 5), dtype=float32, numpy=\n",
              "array([[77.9325  , 79.077835, 75.89861 , 81.09679 , 70.85812 ],\n",
              "       [79.7024  , 80.11417 , 80.71191 , 82.16049 , 72.75039 ],\n",
              "       [77.475586, 80.45766 , 78.93689 , 81.65938 , 73.81871 ],\n",
              "       [75.87905 , 75.77568 , 75.45163 , 77.181404, 70.83116 ],\n",
              "       [78.36458 , 81.13037 , 79.61514 , 81.42276 , 72.49864 ]],\n",
              "      dtype=float32)>"
            ]
          },
          "metadata": {},
          "execution_count": 20
        }
      ]
    },
    {
      "cell_type": "code",
      "source": [
        "tf.tensordot(rand_tensor1,tf.transpose(rand_tensor_2),axes=1)"
      ],
      "metadata": {
        "colab": {
          "base_uri": "https://localhost:8080/"
        },
        "id": "kICGPXowk1jO",
        "outputId": "9d2845dc-2956-42d7-8239-1b1f265e4127"
      },
      "execution_count": 25,
      "outputs": [
        {
          "output_type": "execute_result",
          "data": {
            "text/plain": [
              "<tf.Tensor: shape=(5, 5), dtype=float32, numpy=\n",
              "array([[77.9325  , 79.077835, 75.89861 , 81.09679 , 70.85812 ],\n",
              "       [79.7024  , 80.11417 , 80.71191 , 82.16049 , 72.75039 ],\n",
              "       [77.475586, 80.45766 , 78.93689 , 81.65938 , 73.81871 ],\n",
              "       [75.87905 , 75.77568 , 75.45163 , 77.181404, 70.83116 ],\n",
              "       [78.36458 , 81.13037 , 79.61514 , 81.42276 , 72.49864 ]],\n",
              "      dtype=float32)>"
            ]
          },
          "metadata": {},
          "execution_count": 25
        }
      ]
    },
    {
      "cell_type": "code",
      "source": [
        "tf.random.set_seed(42)\n",
        "rand_tensor3=tf.random.uniform(minval=0,maxval=1,shape=(224, 224, 3), seed=42)\n",
        "#rand_tensor4=tf.random.uniform(minval=0,maxval=1,shape=(224, 224, 3), seed=2)"
      ],
      "metadata": {
        "id": "H9Ip0ERG_qbh"
      },
      "execution_count": 27,
      "outputs": []
    },
    {
      "cell_type": "code",
      "source": [
        "rand_tensor3"
      ],
      "metadata": {
        "colab": {
          "base_uri": "https://localhost:8080/"
        },
        "id": "CdsF-IA2A5kq",
        "outputId": "735279fd-181d-43a2-d472-7c4ded5e5198"
      },
      "execution_count": 29,
      "outputs": [
        {
          "output_type": "execute_result",
          "data": {
            "text/plain": [
              "<tf.Tensor: shape=(224, 224, 3), dtype=float32, numpy=\n",
              "array([[[0.4163028 , 0.26858163, 0.47968316],\n",
              "        [0.36457133, 0.95471144, 0.9418646 ],\n",
              "        [0.61483395, 0.35842144, 0.5936024 ],\n",
              "        ...,\n",
              "        [0.3001454 , 0.7371932 , 0.9997108 ],\n",
              "        [0.6578264 , 0.79280615, 0.1523186 ],\n",
              "        [0.18333101, 0.84532166, 0.66058433]],\n",
              "\n",
              "       [[0.99603903, 0.74609745, 0.5254276 ],\n",
              "        [0.97391105, 0.12732589, 0.33558083],\n",
              "        [0.15509152, 0.3798263 , 0.02595055],\n",
              "        ...,\n",
              "        [0.24695694, 0.4792341 , 0.907869  ],\n",
              "        [0.93202424, 0.21663308, 0.3452747 ],\n",
              "        [0.01570225, 0.97835445, 0.10668027]],\n",
              "\n",
              "       [[0.216218  , 0.02733779, 0.2472924 ],\n",
              "        [0.56103206, 0.02278149, 0.83240056],\n",
              "        [0.8430499 , 0.86110675, 0.39599562],\n",
              "        ...,\n",
              "        [0.51704574, 0.2421813 , 0.6224375 ],\n",
              "        [0.52620804, 0.409366  , 0.84243226],\n",
              "        [0.5460491 , 0.18278158, 0.9165064 ]],\n",
              "\n",
              "       ...,\n",
              "\n",
              "       [[0.74593174, 0.8235165 , 0.39988327],\n",
              "        [0.5811764 , 0.6485292 , 0.07318509],\n",
              "        [0.00589585, 0.6419269 , 0.23623943],\n",
              "        ...,\n",
              "        [0.9112017 , 0.88024414, 0.8442246 ],\n",
              "        [0.8325002 , 0.48099566, 0.5837574 ],\n",
              "        [0.45425844, 0.50584686, 0.33248162]],\n",
              "\n",
              "       [[0.43170965, 0.76083267, 0.04299724],\n",
              "        [0.92756164, 0.40405536, 0.16501105],\n",
              "        [0.27181232, 0.6757355 , 0.24796116],\n",
              "        ...,\n",
              "        [0.19005632, 0.8373622 , 0.88968575],\n",
              "        [0.9291986 , 0.7599759 , 0.02258408],\n",
              "        [0.9963025 , 0.45325232, 0.19665658]],\n",
              "\n",
              "       [[0.5778074 , 0.41934943, 0.03811729],\n",
              "        [0.03681779, 0.8260212 , 0.20397687],\n",
              "        [0.6626934 , 0.86505616, 0.05243158],\n",
              "        ...,\n",
              "        [0.42547143, 0.48931324, 0.30297387],\n",
              "        [0.12049162, 0.9484885 , 0.8884587 ],\n",
              "        [0.4801184 , 0.9299017 , 0.79143715]]], dtype=float32)>"
            ]
          },
          "metadata": {},
          "execution_count": 29
        }
      ]
    },
    {
      "cell_type": "code",
      "source": [
        "tf.reduce_max(rand_tensor3)"
      ],
      "metadata": {
        "colab": {
          "base_uri": "https://localhost:8080/"
        },
        "id": "l0i-OVwZA8pZ",
        "outputId": "e55524da-86db-4658-9acf-d45a30a00a11"
      },
      "execution_count": 33,
      "outputs": [
        {
          "output_type": "execute_result",
          "data": {
            "text/plain": [
              "<tf.Tensor: shape=(), dtype=float32, numpy=0.9999901>"
            ]
          },
          "metadata": {},
          "execution_count": 33
        }
      ]
    },
    {
      "cell_type": "code",
      "source": [
        "tf.reduce_min(rand_tensor3)"
      ],
      "metadata": {
        "colab": {
          "base_uri": "https://localhost:8080/"
        },
        "id": "GD_z1_KzBOFH",
        "outputId": "be9243e7-1367-4f55-e9d0-ff82f459c435"
      },
      "execution_count": 35,
      "outputs": [
        {
          "output_type": "execute_result",
          "data": {
            "text/plain": [
              "<tf.Tensor: shape=(), dtype=float32, numpy=1.7404556e-05>"
            ]
          },
          "metadata": {},
          "execution_count": 35
        }
      ]
    },
    {
      "cell_type": "code",
      "source": [
        ""
      ],
      "metadata": {
        "id": "0ulEq3KYFaEq"
      },
      "execution_count": null,
      "outputs": []
    }
  ]
}